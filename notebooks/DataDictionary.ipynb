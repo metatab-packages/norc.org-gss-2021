{
 "cells": [
  {
   "cell_type": "markdown",
   "metadata": {},
   "source": [
    "# Data Dictionary\n",
    "\n",
    "Build the data ditionary files"
   ]
  },
  {
   "cell_type": "code",
   "execution_count": 63,
   "metadata": {},
   "outputs": [
    {
     "name": "stdout",
     "output_type": "stream",
     "text": [
      "The autoreload extension is already loaded. To reload it, use:\n",
      "  %reload_ext autoreload\n"
     ]
    }
   ],
   "source": [
    "%load_ext autoreload\n",
    "%autoreload 2\n",
    "import seaborn as sns\n",
    "import metapack as mp\n",
    "import pandas as pd\n",
    "import numpy as np\n",
    "import matplotlib.pyplot as plt\n",
    "from IPython.display import display \n",
    "\n",
    "%matplotlib inline\n",
    "sns.set_context('notebook')\n",
    "mp.jupyter.init()\n",
    "\n",
    "from pathlib import Path\n"
   ]
  },
  {
   "cell_type": "code",
   "execution_count": 64,
   "metadata": {},
   "outputs": [
    {
     "data": {
      "text/plain": "# General Social Survey\n`norc.org-gss-2021-1.2.1` Last Update: 2023-05-01T15:24:14\n\n_General Social Survey collects information and keeps a historical record of the concerns, experiences, attitudes, and practices of residents of the United States._\n\n\n## Caveats\n\nThis package is an extract meant for a specific workflow. For general analysis, you should almost certainly use an extract generated from the [GSS website](https://gss.norc.org/). \n\n## Using the Data Files\n\n\nThe variables in this package are almost entirely categorical, but the data is stored with codes, with the categorical labels stored seperately in the ``_labels`` reference. When opening the file with Metapack, the ``convert_categorical`` argument ( which defaults to ``True`` ) controls converting the codes to labels. \n\n    pkg.resource('gss_2021').dataframe(convert_categorical=True)\n\nBecause the default is ``True`` this should happen automatically when using ``.dataframe``, but it is good to know what is happening behind the scenes.\n## Documentation Links\n\n* [General Social Survey](https://gss.norc.org/) GSS Homepage at NORC\n* [Download page](https://gss.norc.org/get-the-data/stata) \n\n \n\n## Contacts\n\n* **Wrangler** [Eric Busboom](mailto:eric@civicknowledge.com), [Civic Knowledge](http://civicknowledge.com)\n\n## Resources\n\n* **[_labels](data/labels.csv)**. Variable value labels\n* **[gss_2021](notebooks/extract.ipynb#df)**. General Social Survey 2021\n\n## References\n<ul><li> <strong><a href=\"https://gss.norc.org/Documents/stata/2021_stata.zip#GSS2021.dta\">gss_2021_src</a></strong>. GSS 2021 Source  archive</li><li> <strong><a href=\"https://gss.norc.org/Documents/stata/2021_stata.zip#GSS 2021 Codebook.pdf\">gss_2021_codes</a></strong>. GSS 2021 Codebook</li><li> <strong>_variables</string>, <em>data/variables.csv</em>. Variable names and descriptions</li><ul>\n",
      "text/html": "<h1>General Social Survey</h1>\n<p><code>norc.org-gss-2021-1.2.1</code> Last Update: 2023-05-01T15:24:14</p>\n<p><em>General Social Survey collects information and keeps a historical record of the concerns, experiences, attitudes, and practices of residents of the United States.</em></p>\n<h2>Caveats</h2>\n<p>This package is an extract meant for a specific workflow. For general analysis, you should almost certainly use an extract generated from the <a href=\"https://gss.norc.org/\">GSS website</a>. </p>\n<h2>Using the Data Files</h2>\n<p>The variables in this package are almost entirely categorical, but the data is stored with codes, with the categorical labels stored seperately in the <code>_labels</code> reference. When opening the file with Metapack, the <code>convert_categorical</code> argument ( which defaults to <code>True</code> ) controls converting the codes to labels. </p>\n<pre><code>pkg.resource('gss_2021').dataframe(convert_categorical=True)\n</code></pre>\n<p>Because the default is <code>True</code> this should happen automatically when using <code>.dataframe</code>, but it is good to know what is happening behind the scenes.</p>\n<h2>Documentation Links</h2>\n<ul>\n<li><a href=\"https://gss.norc.org/\">General Social Survey</a> GSS Homepage at NORC</li>\n<li><a href=\"https://gss.norc.org/get-the-data/stata\">Download page</a> </li>\n</ul>\n<h2>Contacts</h2>\n<ul>\n<li><strong>Wrangler</strong> <a href=\"mailto:eric@civicknowledge.com\">Eric Busboom</a>, <a href=\"http://civicknowledge.com\">Civic Knowledge</a></li>\n</ul>\n<h2>Resources</h2>\n<ul>\n<li><strong><a href=\"data/labels.csv\">_labels</a></strong>. Variable value labels</li>\n<li><strong><a href=\"notebooks/extract.ipynb#df\">gss_2021</a></strong>. General Social Survey 2021</li>\n</ul>\n<h2>References</h2>\n<ul><li> <strong><a href=\"https://gss.norc.org/Documents/stata/2021_stata.zip#GSS2021.dta\">gss_2021_src</a></strong>. GSS 2021 Source  archive</li><li> <strong><a href=\"https://gss.norc.org/Documents/stata/2021_stata.zip#GSS 2021 Codebook.pdf\">gss_2021_codes</a></strong>. GSS 2021 Codebook</li><li> <strong>_variables</string>, <em>data/variables.csv</em>. Variable names and descriptions</li><ul>"
     },
     "execution_count": 64,
     "metadata": {},
     "output_type": "execute_result"
    }
   ],
   "source": [
    "#pkg = mp.jupyter.open_package()\n",
    "pkg = mp.jupyter.open_source_package()\n",
    "\n",
    "pkg.set_sys_path()\n",
    "\n",
    "from pylib.codebook import get_codebook_text\n",
    "\n",
    "pkg"
   ]
  },
  {
   "cell_type": "code",
   "execution_count": 3,
   "metadata": {},
   "outputs": [],
   "source": [
    "root_dir = Path(pkg.package_url.fspath)\n",
    "data_dir = root_dir / 'data'\n",
    "cache_dir = root_dir / 'cache'\n",
    "\n",
    "if not cache_dir.exists():\n",
    "    cache_dir.mkdir()"
   ]
  },
  {
   "cell_type": "code",
   "execution_count": 4,
   "metadata": {},
   "outputs": [
    {
     "name": "stderr",
     "output_type": "stream",
     "text": [
      "/var/folders/kp/jn04x74j43j9v0t6cl0574h00000gn/T/ipykernel_19281/1501394173.py:2: UnicodeWarning: \n",
      "One or more strings in the dta file could not be decoded using utf-8, and\n",
      "so the fallback encoding of latin-1 is being used.  This can happen when a file\n",
      "has been incorrectly encoded by Stata or some other software. You should verify\n",
      "the string values returned are correct.\n",
      "  df = pd.read_stata(fn)\n"
     ]
    },
    {
     "data": {
      "text/plain": "   year id            wrkstat  hrs1 hrs2 evwork         wrkslf wrkgovt  \\\n0  2021  1  working full time  36.0  NaN    NaN   someone else     NaN   \n1  2021  2  working full time  45.0  NaN    NaN   someone else     NaN   \n2  2021  3  working part time  16.0  NaN    NaN   someone else     NaN   \n3  2021  4  working part time  27.0  NaN    NaN  self-employed     NaN   \n4  2021  6  working full time  42.0  NaN    NaN   someone else     NaN   \n\n                                           occ10 prestg10  ...        biblenv  \\\n0           receptionists and information clerks     38.0  ...  inspired word   \n1            advertising and promotions managers     57.0  ...            NaN   \n2       miscellaneous assemblers and fabricators     35.0  ...            NaN   \n3                              childcare workers     35.0  ...            NaN   \n4  insurance claims and policy processing clerks     38.0  ...  inspired word   \n\n  postlifenv       kidssolnv       uscitznnv fucitznnv   fepolnv  \\\n0         no  somewhat worse             NaN       NaN       NaN   \n1        NaN             NaN             NaN       NaN       NaN   \n2        NaN             NaN             NaN       NaN  disagree   \n3        NaN             NaN             NaN       NaN       NaN   \n4        yes             NaN  a u.s. citizen       NaN  disagree   \n\n                                    scibnftsv abanyg fileversion vietdraft  \n0  about equal (phone mode only: volunteered)     no     7221.32       NaN  \n1                            benefits greater    NaN     7221.32       NaN  \n2                                         NaN    yes     7221.32       NaN  \n3                                         NaN    NaN     7221.32       NaN  \n4                                         NaN    yes     7221.32       NaN  \n\n[5 rows x 707 columns]",
      "text/html": "<div>\n<style scoped>\n    .dataframe tbody tr th:only-of-type {\n        vertical-align: middle;\n    }\n\n    .dataframe tbody tr th {\n        vertical-align: top;\n    }\n\n    .dataframe thead th {\n        text-align: right;\n    }\n</style>\n<table border=\"1\" class=\"dataframe\">\n  <thead>\n    <tr style=\"text-align: right;\">\n      <th></th>\n      <th>year</th>\n      <th>id</th>\n      <th>wrkstat</th>\n      <th>hrs1</th>\n      <th>hrs2</th>\n      <th>evwork</th>\n      <th>wrkslf</th>\n      <th>wrkgovt</th>\n      <th>occ10</th>\n      <th>prestg10</th>\n      <th>...</th>\n      <th>biblenv</th>\n      <th>postlifenv</th>\n      <th>kidssolnv</th>\n      <th>uscitznnv</th>\n      <th>fucitznnv</th>\n      <th>fepolnv</th>\n      <th>scibnftsv</th>\n      <th>abanyg</th>\n      <th>fileversion</th>\n      <th>vietdraft</th>\n    </tr>\n  </thead>\n  <tbody>\n    <tr>\n      <th>0</th>\n      <td>2021</td>\n      <td>1</td>\n      <td>working full time</td>\n      <td>36.0</td>\n      <td>NaN</td>\n      <td>NaN</td>\n      <td>someone else</td>\n      <td>NaN</td>\n      <td>receptionists and information clerks</td>\n      <td>38.0</td>\n      <td>...</td>\n      <td>inspired word</td>\n      <td>no</td>\n      <td>somewhat worse</td>\n      <td>NaN</td>\n      <td>NaN</td>\n      <td>NaN</td>\n      <td>about equal (phone mode only: volunteered)</td>\n      <td>no</td>\n      <td>7221.32</td>\n      <td>NaN</td>\n    </tr>\n    <tr>\n      <th>1</th>\n      <td>2021</td>\n      <td>2</td>\n      <td>working full time</td>\n      <td>45.0</td>\n      <td>NaN</td>\n      <td>NaN</td>\n      <td>someone else</td>\n      <td>NaN</td>\n      <td>advertising and promotions managers</td>\n      <td>57.0</td>\n      <td>...</td>\n      <td>NaN</td>\n      <td>NaN</td>\n      <td>NaN</td>\n      <td>NaN</td>\n      <td>NaN</td>\n      <td>NaN</td>\n      <td>benefits greater</td>\n      <td>NaN</td>\n      <td>7221.32</td>\n      <td>NaN</td>\n    </tr>\n    <tr>\n      <th>2</th>\n      <td>2021</td>\n      <td>3</td>\n      <td>working part time</td>\n      <td>16.0</td>\n      <td>NaN</td>\n      <td>NaN</td>\n      <td>someone else</td>\n      <td>NaN</td>\n      <td>miscellaneous assemblers and fabricators</td>\n      <td>35.0</td>\n      <td>...</td>\n      <td>NaN</td>\n      <td>NaN</td>\n      <td>NaN</td>\n      <td>NaN</td>\n      <td>NaN</td>\n      <td>disagree</td>\n      <td>NaN</td>\n      <td>yes</td>\n      <td>7221.32</td>\n      <td>NaN</td>\n    </tr>\n    <tr>\n      <th>3</th>\n      <td>2021</td>\n      <td>4</td>\n      <td>working part time</td>\n      <td>27.0</td>\n      <td>NaN</td>\n      <td>NaN</td>\n      <td>self-employed</td>\n      <td>NaN</td>\n      <td>childcare workers</td>\n      <td>35.0</td>\n      <td>...</td>\n      <td>NaN</td>\n      <td>NaN</td>\n      <td>NaN</td>\n      <td>NaN</td>\n      <td>NaN</td>\n      <td>NaN</td>\n      <td>NaN</td>\n      <td>NaN</td>\n      <td>7221.32</td>\n      <td>NaN</td>\n    </tr>\n    <tr>\n      <th>4</th>\n      <td>2021</td>\n      <td>6</td>\n      <td>working full time</td>\n      <td>42.0</td>\n      <td>NaN</td>\n      <td>NaN</td>\n      <td>someone else</td>\n      <td>NaN</td>\n      <td>insurance claims and policy processing clerks</td>\n      <td>38.0</td>\n      <td>...</td>\n      <td>inspired word</td>\n      <td>yes</td>\n      <td>NaN</td>\n      <td>a u.s. citizen</td>\n      <td>NaN</td>\n      <td>disagree</td>\n      <td>NaN</td>\n      <td>yes</td>\n      <td>7221.32</td>\n      <td>NaN</td>\n    </tr>\n  </tbody>\n</table>\n<p>5 rows × 707 columns</p>\n</div>"
     },
     "execution_count": 4,
     "metadata": {},
     "output_type": "execute_result"
    }
   ],
   "source": [
    "fn = pkg.reference('gss_2021_src').resolved_url.get_resource().get_target().fspath\n",
    "df = pd.read_stata(fn)\n",
    "df['year'] = df['year'].astype(int)\n",
    "df.head()"
   ]
  },
  {
   "cell_type": "code",
   "execution_count": 4,
   "metadata": {
    "collapsed": false,
    "jupyter": {
     "outputs_hidden": false
    }
   },
   "outputs": [],
   "source": []
  },
  {
   "cell_type": "code",
   "execution_count": 5,
   "metadata": {},
   "outputs": [
    {
     "name": "stdout",
     "output_type": "stream",
     "text": [
      "Codebook Path /Volumes/SSD_Extern/metapack/gss.norc.org/Documents/stata/2021_stata.zip_d/GSS 2021 Codebook.pdf\n"
     ]
    },
    {
     "data": {
      "text/plain": "  0%|          | 0/117697 [00:00<?, ?it/s]",
      "application/vnd.jupyter.widget-view+json": {
       "version_major": 2,
       "version_minor": 0,
       "model_id": "657cc6b8f785476ebf0e9c53c3561901"
      }
     },
     "metadata": {},
     "output_type": "display_data"
    },
    {
     "data": {
      "text/plain": "        column                                               desc\n615    gender8                            Gender of eighth person\n367   spanself   If this interview had only been available in ...\n512  raceacs14                             Other Pacific Islander\n934   evpaidsx   Thinking about the time since your 18th birth...\n280   absingle   If she is not married and does not want to ma...\n256      wksup   At work, [do you/does your spouse] supervise ...\n285     pillok   Do you strongly agree, agree, disagree, or st...\n989   rgroomed                HOW WELL-GROOMED IS THE RESPONDENT?\n572    relate1   (FIRST PERSON) Relationship of first person t...\n40    mawrkslf   At this job, was [mother/stepmother/female re...",
      "text/html": "<div>\n<style scoped>\n    .dataframe tbody tr th:only-of-type {\n        vertical-align: middle;\n    }\n\n    .dataframe tbody tr th {\n        vertical-align: top;\n    }\n\n    .dataframe thead th {\n        text-align: right;\n    }\n</style>\n<table border=\"1\" class=\"dataframe\">\n  <thead>\n    <tr style=\"text-align: right;\">\n      <th></th>\n      <th>column</th>\n      <th>desc</th>\n    </tr>\n  </thead>\n  <tbody>\n    <tr>\n      <th>615</th>\n      <td>gender8</td>\n      <td>Gender of eighth person</td>\n    </tr>\n    <tr>\n      <th>367</th>\n      <td>spanself</td>\n      <td>If this interview had only been available in ...</td>\n    </tr>\n    <tr>\n      <th>512</th>\n      <td>raceacs14</td>\n      <td>Other Pacific Islander</td>\n    </tr>\n    <tr>\n      <th>934</th>\n      <td>evpaidsx</td>\n      <td>Thinking about the time since your 18th birth...</td>\n    </tr>\n    <tr>\n      <th>280</th>\n      <td>absingle</td>\n      <td>If she is not married and does not want to ma...</td>\n    </tr>\n    <tr>\n      <th>256</th>\n      <td>wksup</td>\n      <td>At work, [do you/does your spouse] supervise ...</td>\n    </tr>\n    <tr>\n      <th>285</th>\n      <td>pillok</td>\n      <td>Do you strongly agree, agree, disagree, or st...</td>\n    </tr>\n    <tr>\n      <th>989</th>\n      <td>rgroomed</td>\n      <td>HOW WELL-GROOMED IS THE RESPONDENT?</td>\n    </tr>\n    <tr>\n      <th>572</th>\n      <td>relate1</td>\n      <td>(FIRST PERSON) Relationship of first person t...</td>\n    </tr>\n    <tr>\n      <th>40</th>\n      <td>mawrkslf</td>\n      <td>At this job, was [mother/stepmother/female re...</td>\n    </tr>\n  </tbody>\n</table>\n</div>"
     },
     "execution_count": 5,
     "metadata": {},
     "output_type": "execute_result"
    }
   ],
   "source": [
    "# Get the variable descriptions out of the codebook\n",
    "from tqdm.auto import tqdm \n",
    "\n",
    "lines = get_codebook_text(pkg)\n",
    "\n",
    "d = {}\n",
    "pp = 0\n",
    "state = None\n",
    "for l in tqdm(lines):\n",
    "    l = l.strip()\n",
    "    \n",
    "    if l.startswith('Variable:'):\n",
    "        state = 'var'\n",
    "        _, var_name = l.split(': ')\n",
    "       \n",
    "        #if var_name == 'WIDOWED':\n",
    "        #    pp = 30\n",
    "    \n",
    "        d[var_name] = ''\n",
    "        \n",
    "    elif l.startswith('Label:'):\n",
    "        state = 'label'\n",
    "        try:\n",
    "            _, text = l.split(': ', 1)\n",
    "            d[var_name] += ' '+text.strip()\n",
    "        except ValueError:\n",
    "            pass\n",
    "        except KeyError:\n",
    "            #print('Err:', l)\n",
    "            pass\n",
    "                 \n",
    "    elif l.startswith('LABEL') or l.startswith('VALUE COUNT') or l.startswith('Notes:') :\n",
    "        state = None\n",
    "        var_name = None\n",
    "        \n",
    "    elif state == 'label':\n",
    "        d[var_name] += ' '+l.strip()\n",
    " \n",
    "    if pp > 0:\n",
    "        pp -= 1\n",
    "        print(state, l)\n",
    "        \n",
    "variables_df = pd.DataFrame([ dict(column=k.lower(), desc=v) for k, v in d.items() ])\n",
    "variables_df.sample(10).head(10)"
   ]
  },
  {
   "cell_type": "code",
   "execution_count": 19,
   "metadata": {
    "collapsed": false,
    "jupyter": {
     "outputs_hidden": false
    }
   },
   "outputs": [
    {
     "name": "stdout",
     "output_type": "stream",
     "text": [
      "1002 100.2 200\n"
     ]
    }
   ],
   "source": [
    "from more_itertools import windowed\n",
    "\n",
    "# create overlapping chunks of variables the overlap is 20% of the size of the block.\n",
    "chunk_size = 10\n",
    "step = chunk_size-5\n",
    "df_chunks = list(windowed(variables_df.iterrows(), chunk_size, step=step))\n",
    "print(len(variables_df), len(variables_df)/chunk_size, len(df_chunks))\n",
    "\n",
    "def make_desc(chunk):\n",
    "    return '\\n'.join([f\"{r[1].column}: {r[1].desc} \" for r in chunk])"
   ]
  },
  {
   "cell_type": "code",
   "execution_count": 20,
   "outputs": [],
   "source": [
    "import  pylib.descriptions as desc\n",
    "from pylib.openai import openai_one_completion\n",
    "import json\n",
    "\n",
    "prompt_templ = Path(desc.__file__).parent.joinpath('rewrite_descriptions.txt').read_text()\n",
    "descriptions = make_desc(df_chunks[1])\n",
    "prompt = prompt_templ.format(descriptions=descriptions)\n",
    "\n",
    "with open('prompt.txt', 'w') as f:\n",
    "    f.write(prompt)\n",
    "\n",
    "r = openai_one_completion(prompt)\n",
    "for l in r.splitlines(): # Just check that they parse.\n",
    "    json.loads(l)\n"
   ],
   "metadata": {
    "collapsed": false
   }
  },
  {
   "cell_type": "code",
   "execution_count": 21,
   "outputs": [
    {
     "name": "stdout",
     "output_type": "stream",
     "text": [
      "{\"variable\": \"evwork\", \"desc\": \"IF RETIRED, IN SCHOOL, KEEPING HOUSE, OR OTHER: Did you ever work for as long as one year?\" }\n",
      "{\"variable\": \"wrkslf\", \"desc\": \"Are you self employed or do you work for someone else?\" }\n",
      "{\"variable\": \"occ10\", \"desc\": \"Respondent's occupation\" }\n",
      "{\"variable\": \"prestg10\", \"desc\": \"Prestige of respondent's occupation\" }\n",
      "{\"variable\": \"prestg105plus\", \"desc\": \"Respondent's occupational prestige score using threshold method\" }\n",
      "{\"variable\": \"indus10\", \"desc\": \"Respondent's industry\" }\n",
      "{\"variable\": \"marital\", \"desc\": \"Are you currently married, widowed, divorced, separated, or have you never been married?\" }\n",
      "{\"variable\": \"martype\", \"desc\": \"Code type of marriage\" }\n",
      "{\"variable\": \"divorce\", \"desc\": \"If currently married or widowed: Have you ever been divorced or legally separated?\" }\n",
      "{\"variable\": \"widowed\", \"desc\": \"If currently married, separated, or divorced: Have you ever been widowed?\" }\n"
     ]
    }
   ],
   "source": [
    "print(r)"
   ],
   "metadata": {
    "collapsed": false
   }
  },
  {
   "cell_type": "code",
   "execution_count": 23,
   "metadata": {
    "collapsed": false,
    "jupyter": {
     "outputs_hidden": false
    }
   },
   "outputs": [
    {
     "name": "stdout",
     "output_type": "stream",
     "text": [
      "Loading cached responses\n",
      "last_chunk_index 1\n"
     ]
    },
    {
     "data": {
      "text/plain": "  0%|          | 0/200 [00:00<?, ?it/s]",
      "application/vnd.jupyter.widget-view+json": {
       "version_major": 2,
       "version_minor": 0,
       "model_id": "784ef93b2d0c4838bfb0887d424e2935"
      }
     },
     "metadata": {},
     "output_type": "display_data"
    },
    {
     "name": "stdout",
     "output_type": "stream",
     "text": [
      "Can't parse response {\"variable\": \"major1\",  Expecting property name enclosed in double quotes: line 1 column 24 (char 23)\n",
      "Can't parse response \"desc\":\"What was your major or field of study when you received your (respondent's college degree) degree? If the respondent received more than one graduate level degree, ask about the highest degree obtained (e.g. a Ph.D. rather than an M.B.A).\"} Extra data: line 1 column 7 (char 6)\n",
      "Can't parse response { \"variable\": \"racdif3\",  Expecting property name enclosed in double quotes: line 1 column 26 (char 25)\n",
      "Can't parse response \"desc\":  Extra data: line 1 column 7 (char 6)\n",
      "Can't parse response \"Do you think that on the average Negroes/Blacks/African-Americans have worse jobs, income, and housing than white people because most of them don't have the chance for education that it takes to rise out of poverty?\" } Extra data: line 1 column 219 (char 218)\n",
      "Can't parse response {\"variable\": Expecting value: line 1 column 13 (char 12)\n",
      "Openai error Request timed out: HTTPSConnectionPool(host='api.openai.com', port=443): Read timed out. (read timeout=600)\n",
      "Loading cached responses\n",
      "last_chunk_index 84\n"
     ]
    },
    {
     "data": {
      "text/plain": "  0%|          | 0/200 [00:00<?, ?it/s]",
      "application/vnd.jupyter.widget-view+json": {
       "version_major": 2,
       "version_minor": 0,
       "model_id": "5e340cc1425340b29855ba79dfd90c8f"
      }
     },
     "metadata": {},
     "output_type": "display_data"
    },
    {
     "name": "stdout",
     "output_type": "stream",
     "text": [
      "Can't parse response {\"variable\": \"wordh\", \"desc\":  We would like to know something about how people go about guessing words they do not know. On this card are listed some words - you may know some of them, and you may not Expecting value: line 1 column 32 (char 31)\n",
      "Can't parse response { Expecting property name enclosed in double quotes: line 1 column 2 (char 1)\n",
      "Can't parse response   \"variable\": \"spsei10inc\", Extra data: line 1 column 13 (char 12)\n",
      "Can't parse response   \"desc\": \"Percentage of $45K+ earners in SPOCC10 based on ACS 2010.\" Extra data: line 1 column 9 (char 8)\n",
      "Can't parse response } Expecting value: line 1 column 1 (char 0)\n",
      "Can't parse response { Expecting property name enclosed in double quotes: line 1 column 2 (char 1)\n",
      "Can't parse response   \"variable\": \"cosei10\", Extra data: line 1 column 13 (char 12)\n",
      "Can't parse response   \"desc\": \"Respondent's partner's socioeconomic index (2010).\" Extra data: line 1 column 9 (char 8)\n",
      "Can't parse response } Expecting value: line 1 column 1 (char 0)\n",
      "Can't parse response { Expecting property name enclosed in double quotes: line 1 column 2 (char 1)\n",
      "Can't parse response   \"variable\": \"cosei10educ\", Extra data: line 1 column 13 (char 12)\n",
      "Can't parse response   \"desc\": \"Percentage of some college education in COOCC10 based on ACS 2010.\" Extra data: line 1 column 9 (char 8)\n",
      "Can't parse response } Expecting value: line 1 column 1 (char 0)\n",
      "Can't parse response { Expecting property name enclosed in double quotes: line 1 column 2 (char 1)\n",
      "Can't parse response   \"variable\": \"cosei10inc\", Extra data: line 1 column 13 (char 12)\n",
      "Can't parse response   \"desc\": \"Percentage of $45K+ earners in COOCC10 based on ACS 2010.\" Extra data: line 1 column 9 (char 8)\n",
      "Can't parse response } Expecting value: line 1 column 1 (char 0)\n",
      "Can't parse response { Expecting property name enclosed in double quotes: line 1 column 2 (char 1)\n",
      "Can't parse response   \"variable\": \"uswaryv\", Extra data: line 1 column 13 (char 12)\n",
      "Can't parse response   \"desc\": \"Do you expect the United States to fight in another world war within the next ten years?\" Extra data: line 1 column 9 (char 8)\n",
      "Can't parse response } Expecting value: line 1 column 1 (char 0)\n",
      "Can't parse response { Expecting property name enclosed in double quotes: line 1 column 2 (char 1)\n",
      "Can't parse response   \"variable\": \"uswarynv\", Extra data: line 1 column 13 (char 12)\n",
      "Can't parse response   \"desc\": \"Do you expect the United States to fight in another world war within the next ten years?\" Extra data: line 1 column 9 (char 8)\n",
      "Can't parse response } Expecting value: line 1 column 1 (char 0)\n",
      "Can't parse response { Expecting property name enclosed in double quotes: line 1 column 2 (char 1)\n",
      "Can't parse response   \"variable\": \"goodlife\", Extra data: line 1 column 13 (char 12)\n",
      "Can't parse response   \"desc\": \"Do you strongly agree, agree, neither agree nor disagree, disagree, or strongly disagree with the following statement: The way things are in America, people like me and my family have a good chance of improving our standard of living-- do you agree or disagree?\" Extra data: line 1 column 9 (char 8)\n",
      "Can't parse response } Expecting value: line 1 column 1 (char 0)\n",
      "Can't parse response { Expecting property name enclosed in double quotes: line 1 column 2 (char 1)\n",
      "Can't parse response   \"variable\": \"relate1\", Extra data: line 1 column 13 (char 12)\n",
      "Can't parse response   \"desc\": \"Relationship of first person to head of household.\" Extra data: line 1 column 9 (char 8)\n",
      "Can't parse response } Expecting value: line 1 column 1 (char 0)\n",
      "Can't parse response { Expecting property name enclosed in double quotes: line 1 column 2 (char 1)\n",
      "Can't parse response   \"variable\": \"gender1\", Extra data: line 1 column 13 (char 12)\n",
      "Can't parse response   \"desc\": \"Gender of first person.\" Extra data: line 1 column 9 (char 8)\n",
      "Can't parse response }   {   \"variable\": \"old1\",   \"desc\": \"Age of first person.\" } Expecting value: line 1 column 1 (char 0)\n",
      "Can't parse response {\"variable Unterminated string starting at: line 1 column 2 (char 1)\n",
      "Loading cached responses\n",
      "last_chunk_index 198\n"
     ]
    },
    {
     "data": {
      "text/plain": "  0%|          | 0/200 [00:00<?, ?it/s]",
      "application/vnd.jupyter.widget-view+json": {
       "version_major": 2,
       "version_minor": 0,
       "model_id": "a1a2f590ee1144ed813c8b3d3a9f066e"
      }
     },
     "metadata": {},
     "output_type": "display_data"
    },
    {
     "name": "stdout",
     "output_type": "stream",
     "text": [
      "Loading cached responses\n",
      "last_chunk_index 198\n"
     ]
    },
    {
     "data": {
      "text/plain": "  0%|          | 0/200 [00:00<?, ?it/s]",
      "application/vnd.jupyter.widget-view+json": {
       "version_major": 2,
       "version_minor": 0,
       "model_id": "c85ea9225ade4b659ff57b571022ce7a"
      }
     },
     "metadata": {},
     "output_type": "display_data"
    },
    {
     "name": "stdout",
     "output_type": "stream",
     "text": [
      "Loading cached responses\n",
      "last_chunk_index 198\n"
     ]
    },
    {
     "data": {
      "text/plain": "  0%|          | 0/200 [00:00<?, ?it/s]",
      "application/vnd.jupyter.widget-view+json": {
       "version_major": 2,
       "version_minor": 0,
       "model_id": "301577b058dc4a3b8f686c68d0d7d22d"
      }
     },
     "metadata": {},
     "output_type": "display_data"
    },
    {
     "ename": "RetryError",
     "evalue": "RetryError[<Future at 0x181e6cf40 state=finished raised TypeError>]",
     "output_type": "error",
     "traceback": [
      "\u001B[0;31m---------------------------------------------------------------------------\u001B[0m",
      "\u001B[0;31mTypeError\u001B[0m                                 Traceback (most recent call last)",
      "File \u001B[0;32m~/opt/miniconda3/envs/data/lib/python3.10/site-packages/tenacity/__init__.py:409\u001B[0m, in \u001B[0;36mRetrying.__call__\u001B[0;34m(self, fn, *args, **kwargs)\u001B[0m\n\u001B[1;32m    408\u001B[0m \u001B[38;5;28;01mtry\u001B[39;00m:\n\u001B[0;32m--> 409\u001B[0m     result \u001B[38;5;241m=\u001B[39m \u001B[43mfn\u001B[49m\u001B[43m(\u001B[49m\u001B[38;5;241;43m*\u001B[39;49m\u001B[43margs\u001B[49m\u001B[43m,\u001B[49m\u001B[43m \u001B[49m\u001B[38;5;241;43m*\u001B[39;49m\u001B[38;5;241;43m*\u001B[39;49m\u001B[43mkwargs\u001B[49m\u001B[43m)\u001B[49m\n\u001B[1;32m    410\u001B[0m \u001B[38;5;28;01mexcept\u001B[39;00m \u001B[38;5;167;01mBaseException\u001B[39;00m:  \u001B[38;5;66;03m# noqa: B902\u001B[39;00m\n",
      "Cell \u001B[0;32mIn [23], line 31\u001B[0m, in \u001B[0;36mrun_rewrite_descriptions\u001B[0;34m(chunks)\u001B[0m\n\u001B[1;32m     29\u001B[0m     \u001B[38;5;28;01mcontinue\u001B[39;00m\n\u001B[0;32m---> 31\u001B[0m descriptions \u001B[38;5;241m=\u001B[39m \u001B[43mmake_desc\u001B[49m\u001B[43m(\u001B[49m\u001B[43mchunk\u001B[49m\u001B[43m)\u001B[49m\n\u001B[1;32m     32\u001B[0m prompt \u001B[38;5;241m=\u001B[39m prompt_templ\u001B[38;5;241m.\u001B[39mformat(descriptions\u001B[38;5;241m=\u001B[39mdescriptions)\n",
      "Cell \u001B[0;32mIn [19], line 10\u001B[0m, in \u001B[0;36mmake_desc\u001B[0;34m(chunk)\u001B[0m\n\u001B[1;32m      9\u001B[0m \u001B[38;5;28;01mdef\u001B[39;00m \u001B[38;5;21mmake_desc\u001B[39m(chunk):\n\u001B[0;32m---> 10\u001B[0m     \u001B[38;5;28;01mreturn\u001B[39;00m \u001B[38;5;124m'\u001B[39m\u001B[38;5;130;01m\\n\u001B[39;00m\u001B[38;5;124m'\u001B[39m\u001B[38;5;241m.\u001B[39mjoin([\u001B[38;5;124mf\u001B[39m\u001B[38;5;124m\"\u001B[39m\u001B[38;5;132;01m{\u001B[39;00mr[\u001B[38;5;241m1\u001B[39m]\u001B[38;5;241m.\u001B[39mcolumn\u001B[38;5;132;01m}\u001B[39;00m\u001B[38;5;124m: \u001B[39m\u001B[38;5;132;01m{\u001B[39;00mr[\u001B[38;5;241m1\u001B[39m]\u001B[38;5;241m.\u001B[39mdesc\u001B[38;5;132;01m}\u001B[39;00m\u001B[38;5;124m \u001B[39m\u001B[38;5;124m\"\u001B[39m \u001B[38;5;28;01mfor\u001B[39;00m r \u001B[38;5;129;01min\u001B[39;00m chunk])\n",
      "Cell \u001B[0;32mIn [19], line 10\u001B[0m, in \u001B[0;36m<listcomp>\u001B[0;34m(.0)\u001B[0m\n\u001B[1;32m      9\u001B[0m \u001B[38;5;28;01mdef\u001B[39;00m \u001B[38;5;21mmake_desc\u001B[39m(chunk):\n\u001B[0;32m---> 10\u001B[0m     \u001B[38;5;28;01mreturn\u001B[39;00m \u001B[38;5;124m'\u001B[39m\u001B[38;5;130;01m\\n\u001B[39;00m\u001B[38;5;124m'\u001B[39m\u001B[38;5;241m.\u001B[39mjoin([\u001B[38;5;124mf\u001B[39m\u001B[38;5;124m\"\u001B[39m\u001B[38;5;132;01m{\u001B[39;00m\u001B[43mr\u001B[49m\u001B[43m[\u001B[49m\u001B[38;5;241;43m1\u001B[39;49m\u001B[43m]\u001B[49m\u001B[38;5;241m.\u001B[39mcolumn\u001B[38;5;132;01m}\u001B[39;00m\u001B[38;5;124m: \u001B[39m\u001B[38;5;132;01m{\u001B[39;00mr[\u001B[38;5;241m1\u001B[39m]\u001B[38;5;241m.\u001B[39mdesc\u001B[38;5;132;01m}\u001B[39;00m\u001B[38;5;124m \u001B[39m\u001B[38;5;124m\"\u001B[39m \u001B[38;5;28;01mfor\u001B[39;00m r \u001B[38;5;129;01min\u001B[39;00m chunk])\n",
      "\u001B[0;31mTypeError\u001B[0m: 'NoneType' object is not subscriptable",
      "\nThe above exception was the direct cause of the following exception:\n",
      "\u001B[0;31mRetryError\u001B[0m                                Traceback (most recent call last)",
      "Cell \u001B[0;32mIn [23], line 56\u001B[0m\n\u001B[1;32m     53\u001B[0m         \u001B[38;5;28;01mwith\u001B[39;00m cache_file\u001B[38;5;241m.\u001B[39mopen(\u001B[38;5;124m'\u001B[39m\u001B[38;5;124mwb\u001B[39m\u001B[38;5;124m'\u001B[39m) \u001B[38;5;28;01mas\u001B[39;00m f:\n\u001B[1;32m     54\u001B[0m             pickle\u001B[38;5;241m.\u001B[39mdump(sv, f)\n\u001B[0;32m---> 56\u001B[0m \u001B[43mrun_rewrite_descriptions\u001B[49m\u001B[43m(\u001B[49m\u001B[43mdf_chunks\u001B[49m\u001B[43m)\u001B[49m\n",
      "File \u001B[0;32m~/opt/miniconda3/envs/data/lib/python3.10/site-packages/tenacity/__init__.py:326\u001B[0m, in \u001B[0;36mBaseRetrying.wraps.<locals>.wrapped_f\u001B[0;34m(*args, **kw)\u001B[0m\n\u001B[1;32m    324\u001B[0m \u001B[38;5;129m@functools\u001B[39m\u001B[38;5;241m.\u001B[39mwraps(f)\n\u001B[1;32m    325\u001B[0m \u001B[38;5;28;01mdef\u001B[39;00m \u001B[38;5;21mwrapped_f\u001B[39m(\u001B[38;5;241m*\u001B[39margs: t\u001B[38;5;241m.\u001B[39mAny, \u001B[38;5;241m*\u001B[39m\u001B[38;5;241m*\u001B[39mkw: t\u001B[38;5;241m.\u001B[39mAny) \u001B[38;5;241m-\u001B[39m\u001B[38;5;241m>\u001B[39m t\u001B[38;5;241m.\u001B[39mAny:\n\u001B[0;32m--> 326\u001B[0m     \u001B[38;5;28;01mreturn\u001B[39;00m \u001B[38;5;28;43mself\u001B[39;49m\u001B[43m(\u001B[49m\u001B[43mf\u001B[49m\u001B[43m,\u001B[49m\u001B[43m \u001B[49m\u001B[38;5;241;43m*\u001B[39;49m\u001B[43margs\u001B[49m\u001B[43m,\u001B[49m\u001B[43m \u001B[49m\u001B[38;5;241;43m*\u001B[39;49m\u001B[38;5;241;43m*\u001B[39;49m\u001B[43mkw\u001B[49m\u001B[43m)\u001B[49m\n",
      "File \u001B[0;32m~/opt/miniconda3/envs/data/lib/python3.10/site-packages/tenacity/__init__.py:406\u001B[0m, in \u001B[0;36mRetrying.__call__\u001B[0;34m(self, fn, *args, **kwargs)\u001B[0m\n\u001B[1;32m    404\u001B[0m retry_state \u001B[38;5;241m=\u001B[39m RetryCallState(retry_object\u001B[38;5;241m=\u001B[39m\u001B[38;5;28mself\u001B[39m, fn\u001B[38;5;241m=\u001B[39mfn, args\u001B[38;5;241m=\u001B[39margs, kwargs\u001B[38;5;241m=\u001B[39mkwargs)\n\u001B[1;32m    405\u001B[0m \u001B[38;5;28;01mwhile\u001B[39;00m \u001B[38;5;28;01mTrue\u001B[39;00m:\n\u001B[0;32m--> 406\u001B[0m     do \u001B[38;5;241m=\u001B[39m \u001B[38;5;28;43mself\u001B[39;49m\u001B[38;5;241;43m.\u001B[39;49m\u001B[43miter\u001B[49m\u001B[43m(\u001B[49m\u001B[43mretry_state\u001B[49m\u001B[38;5;241;43m=\u001B[39;49m\u001B[43mretry_state\u001B[49m\u001B[43m)\u001B[49m\n\u001B[1;32m    407\u001B[0m     \u001B[38;5;28;01mif\u001B[39;00m \u001B[38;5;28misinstance\u001B[39m(do, DoAttempt):\n\u001B[1;32m    408\u001B[0m         \u001B[38;5;28;01mtry\u001B[39;00m:\n",
      "File \u001B[0;32m~/opt/miniconda3/envs/data/lib/python3.10/site-packages/tenacity/__init__.py:363\u001B[0m, in \u001B[0;36mBaseRetrying.iter\u001B[0;34m(self, retry_state)\u001B[0m\n\u001B[1;32m    361\u001B[0m     \u001B[38;5;28;01mif\u001B[39;00m \u001B[38;5;28mself\u001B[39m\u001B[38;5;241m.\u001B[39mreraise:\n\u001B[1;32m    362\u001B[0m         \u001B[38;5;28;01mraise\u001B[39;00m retry_exc\u001B[38;5;241m.\u001B[39mreraise()\n\u001B[0;32m--> 363\u001B[0m     \u001B[38;5;28;01mraise\u001B[39;00m retry_exc \u001B[38;5;28;01mfrom\u001B[39;00m \u001B[38;5;21;01mfut\u001B[39;00m\u001B[38;5;21;01m.\u001B[39;00m\u001B[38;5;21;01mexception\u001B[39;00m()\n\u001B[1;32m    365\u001B[0m \u001B[38;5;28;01mif\u001B[39;00m \u001B[38;5;28mself\u001B[39m\u001B[38;5;241m.\u001B[39mwait:\n\u001B[1;32m    366\u001B[0m     sleep \u001B[38;5;241m=\u001B[39m \u001B[38;5;28mself\u001B[39m\u001B[38;5;241m.\u001B[39mwait(retry_state\u001B[38;5;241m=\u001B[39mretry_state)\n",
      "\u001B[0;31mRetryError\u001B[0m: RetryError[<Future at 0x181e6cf40 state=finished raised TypeError>]"
     ]
    }
   ],
   "source": [
    "\n",
    "from tenacity import retry, stop_after_attempt\n",
    "\n",
    "@retry(stop=stop_after_attempt(5))\n",
    "def run_rewrite_descriptions(chunks):\n",
    "    from pylib.openai import openai_one_completion\n",
    "    import  pylib.descriptions as desc\n",
    "    from pathlib import Path\n",
    "    import pickle\n",
    "\n",
    "    cache_file = cache_dir/'rw.cache'\n",
    "    \n",
    "    prompt_templ = Path(desc.__file__).parent.joinpath('rewrite_descriptions.txt').read_text()\n",
    "\n",
    "    if cache_file.exists():\n",
    "        with cache_file.open('rb') as f:\n",
    "            print(\"Loading cached responses\")\n",
    "            c = pickle.load(f)\n",
    "            responses = c['responses']\n",
    "            last_chunk_index = c['last_chunk_index']\n",
    "    else:\n",
    "        responses = []\n",
    "        last_chunk_index = 0 \n",
    "    \n",
    "    print(\"last_chunk_index\", last_chunk_index)\n",
    "\n",
    "    for i, chunk in enumerate(tqdm(chunks)):\n",
    "        \n",
    "        if i < last_chunk_index:\n",
    "            continue\n",
    "\n",
    "        descriptions = make_desc(chunk)\n",
    "        prompt = prompt_templ.format(descriptions=descriptions)\n",
    "\n",
    "        try:\n",
    "            r = openai_one_completion(prompt)\n",
    "            responses.append(r)\n",
    "        except Exception as e:\n",
    "            print(\"Openai error\", e)\n",
    "            raise # Let the retry decorator handle it\n",
    "\n",
    "        for l in r.splitlines(): # Just check that they parse.\n",
    "            try:\n",
    "                json.loads(l)\n",
    "            except Exception as e:\n",
    "                print(\"Chunk\", i, \"Can't parse response\", l,e)\n",
    "\n",
    "        sv = {\n",
    "            'last_chunk_index': i,\n",
    "            'chunks': chunks,\n",
    "            'responses': responses\n",
    "        }\n",
    "    \n",
    "        with cache_file.open('wb') as f:\n",
    "            pickle.dump(sv, f)\n",
    "    \n",
    "run_rewrite_descriptions(df_chunks)"
   ]
  },
  {
   "cell_type": "code",
   "execution_count": 54,
   "metadata": {},
   "outputs": [
    {
     "name": "stdout",
     "output_type": "stream",
     "text": [
      "Loading cached responses\n",
      "Chunk 11 Can't parse response {\"variable\": \"major1\",  Expecting property name enclosed in double quotes: line 1 column 24 (char 23)\n",
      "Chunk 11 Can't parse response \"desc\":\"What was your major or field of study when you received your (respondent's college degree) degree? If the respondent received more than one graduate level degree, ask about the highest degree obtained (e.g. a Ph.D. rather than an M.B.A).\"} Extra data: line 1 column 7 (char 6)\n",
      "Chunk 66 Can't parse response { \"variable\": \"racdif3\",  Expecting property name enclosed in double quotes: line 1 column 26 (char 25)\n",
      "Chunk 66 Can't parse response \"desc\":  Extra data: line 1 column 7 (char 6)\n",
      "Chunk 66 Can't parse response \"Do you think that on the average Negroes/Blacks/African-Americans have worse jobs, income, and housing than white people because most of them don't have the chance for education that it takes to rise out of poverty?\" } Extra data: line 1 column 219 (char 218)\n",
      "Chunk 85 Can't parse response {\"variable\": Expecting value: line 1 column 13 (char 12)\n",
      "Chunk 107 Can't parse response {\"variable\": \"wordh\", \"desc\":  We would like to know something about how people go about guessing words they do not know. On this card are listed some words - you may know some of them, and you may not Expecting value: line 1 column 32 (char 31)\n",
      "Chunk 115 Can't parse response { Expecting property name enclosed in double quotes: line 1 column 2 (char 1)\n",
      "Chunk 115 Can't parse response   \"variable\": \"spsei10inc\", Extra data: line 1 column 13 (char 12)\n",
      "Chunk 115 Can't parse response   \"desc\": \"Percentage of $45K+ earners in SPOCC10 based on ACS 2010.\" Extra data: line 1 column 9 (char 8)\n",
      "Chunk 115 Can't parse response } Expecting value: line 1 column 1 (char 0)\n",
      "Chunk 115 Can't parse response { Expecting property name enclosed in double quotes: line 1 column 2 (char 1)\n",
      "Chunk 115 Can't parse response   \"variable\": \"cosei10\", Extra data: line 1 column 13 (char 12)\n",
      "Chunk 115 Can't parse response   \"desc\": \"Respondent's partner's socioeconomic index (2010).\" Extra data: line 1 column 9 (char 8)\n",
      "Chunk 115 Can't parse response } Expecting value: line 1 column 1 (char 0)\n",
      "Chunk 115 Can't parse response { Expecting property name enclosed in double quotes: line 1 column 2 (char 1)\n",
      "Chunk 115 Can't parse response   \"variable\": \"cosei10educ\", Extra data: line 1 column 13 (char 12)\n",
      "Chunk 115 Can't parse response   \"desc\": \"Percentage of some college education in COOCC10 based on ACS 2010.\" Extra data: line 1 column 9 (char 8)\n",
      "Chunk 115 Can't parse response } Expecting value: line 1 column 1 (char 0)\n",
      "Chunk 115 Can't parse response { Expecting property name enclosed in double quotes: line 1 column 2 (char 1)\n",
      "Chunk 115 Can't parse response   \"variable\": \"cosei10inc\", Extra data: line 1 column 13 (char 12)\n",
      "Chunk 115 Can't parse response   \"desc\": \"Percentage of $45K+ earners in COOCC10 based on ACS 2010.\" Extra data: line 1 column 9 (char 8)\n",
      "Chunk 115 Can't parse response } Expecting value: line 1 column 1 (char 0)\n",
      "Chunk 115 Can't parse response { Expecting property name enclosed in double quotes: line 1 column 2 (char 1)\n",
      "Chunk 115 Can't parse response   \"variable\": \"uswaryv\", Extra data: line 1 column 13 (char 12)\n",
      "Chunk 115 Can't parse response   \"desc\": \"Do you expect the United States to fight in another world war within the next ten years?\" Extra data: line 1 column 9 (char 8)\n",
      "Chunk 115 Can't parse response } Expecting value: line 1 column 1 (char 0)\n",
      "Chunk 115 Can't parse response { Expecting property name enclosed in double quotes: line 1 column 2 (char 1)\n",
      "Chunk 115 Can't parse response   \"variable\": \"uswarynv\", Extra data: line 1 column 13 (char 12)\n",
      "Chunk 115 Can't parse response   \"desc\": \"Do you expect the United States to fight in another world war within the next ten years?\" Extra data: line 1 column 9 (char 8)\n",
      "Chunk 115 Can't parse response } Expecting value: line 1 column 1 (char 0)\n",
      "Chunk 115 Can't parse response { Expecting property name enclosed in double quotes: line 1 column 2 (char 1)\n",
      "Chunk 115 Can't parse response   \"variable\": \"goodlife\", Extra data: line 1 column 13 (char 12)\n",
      "Chunk 115 Can't parse response   \"desc\": \"Do you strongly agree, agree, neither agree nor disagree, disagree, or strongly disagree with the following statement: The way things are in America, people like me and my family have a good chance of improving our standard of living-- do you agree or disagree?\" Extra data: line 1 column 9 (char 8)\n",
      "Chunk 115 Can't parse response } Expecting value: line 1 column 1 (char 0)\n",
      "Chunk 115 Can't parse response { Expecting property name enclosed in double quotes: line 1 column 2 (char 1)\n",
      "Chunk 115 Can't parse response   \"variable\": \"relate1\", Extra data: line 1 column 13 (char 12)\n",
      "Chunk 115 Can't parse response   \"desc\": \"Relationship of first person to head of household.\" Extra data: line 1 column 9 (char 8)\n",
      "Chunk 115 Can't parse response } Expecting value: line 1 column 1 (char 0)\n",
      "Chunk 115 Can't parse response { Expecting property name enclosed in double quotes: line 1 column 2 (char 1)\n",
      "Chunk 115 Can't parse response   \"variable\": \"gender1\", Extra data: line 1 column 13 (char 12)\n",
      "Chunk 115 Can't parse response   \"desc\": \"Gender of first person.\" Extra data: line 1 column 9 (char 8)\n",
      "Chunk 115 Can't parse response }   {   \"variable\": \"old1\",   \"desc\": \"Age of first person.\" } Expecting value: line 1 column 1 (char 0)\n",
      "Chunk 123 Can't parse response {\"variable Unterminated string starting at: line 1 column 2 (char 1)\n"
     ]
    }
   ],
   "source": [
    "import json\n",
    "import pickle\n",
    "\n",
    "cache_file = cache_dir/'rw.cache'\n",
    "with cache_file.open('rb') as f:\n",
    "    print(\"Loading cached responses\")\n",
    "    c = pickle.load(f)\n",
    "    responses = c['responses']\n",
    "    last_chunk_index = c['last_chunk_index'] \n",
    "\n",
    "# Preload dict with original description\n",
    "d = {}\n",
    "for idx, r in variables_df.iterrows():\n",
    "    d[r.column] = [r.desc.strip()]\n",
    "    \n",
    "for i, r in enumerate(c['responses']):\n",
    "    for l in r.splitlines(): # Just check that they parse.\n",
    "            try:\n",
    "                e = json.loads(l)\n",
    "                desc = e['desc'].strip()\n",
    "                if desc != d[e['variable']][-1]:\n",
    "                    d[e['variable']].append(e['desc'])\n",
    "            except Exception as e:\n",
    "                print(\"Chunk\", i, \"Can't parse response\", l,e)"
   ]
  },
  {
   "cell_type": "code",
   "execution_count": 55,
   "outputs": [
    {
     "data": {
      "text/plain": "          column                                               desc\n14       widowed  If currently married, separated, or divorced, ...\n564  spsei10educ  Percentage of some college education in SPOCC1...\n435  ethregion34  From what country or countries did your ancest...\n552     dateintv                                 Date of interview.\n927      matesex  Was one of the partners your husband or wife o...\n829      trmedia  On a scale of 0 to 10, how much do you persona...\n193     relitenv  Would the respondent call themselves a strong ...\n80        adults               Number of members over 17 years old.\n96        vote16  In 2016, you remember that Hillary Clinton ran...\n557      pasei10  Respondent's father's socioeconomic index (2010).",
      "text/html": "<div>\n<style scoped>\n    .dataframe tbody tr th:only-of-type {\n        vertical-align: middle;\n    }\n\n    .dataframe tbody tr th {\n        vertical-align: top;\n    }\n\n    .dataframe thead th {\n        text-align: right;\n    }\n</style>\n<table border=\"1\" class=\"dataframe\">\n  <thead>\n    <tr style=\"text-align: right;\">\n      <th></th>\n      <th>column</th>\n      <th>desc</th>\n    </tr>\n  </thead>\n  <tbody>\n    <tr>\n      <th>14</th>\n      <td>widowed</td>\n      <td>If currently married, separated, or divorced, ...</td>\n    </tr>\n    <tr>\n      <th>564</th>\n      <td>spsei10educ</td>\n      <td>Percentage of some college education in SPOCC1...</td>\n    </tr>\n    <tr>\n      <th>435</th>\n      <td>ethregion34</td>\n      <td>From what country or countries did your ancest...</td>\n    </tr>\n    <tr>\n      <th>552</th>\n      <td>dateintv</td>\n      <td>Date of interview.</td>\n    </tr>\n    <tr>\n      <th>927</th>\n      <td>matesex</td>\n      <td>Was one of the partners your husband or wife o...</td>\n    </tr>\n    <tr>\n      <th>829</th>\n      <td>trmedia</td>\n      <td>On a scale of 0 to 10, how much do you persona...</td>\n    </tr>\n    <tr>\n      <th>193</th>\n      <td>relitenv</td>\n      <td>Would the respondent call themselves a strong ...</td>\n    </tr>\n    <tr>\n      <th>80</th>\n      <td>adults</td>\n      <td>Number of members over 17 years old.</td>\n    </tr>\n    <tr>\n      <th>96</th>\n      <td>vote16</td>\n      <td>In 2016, you remember that Hillary Clinton ran...</td>\n    </tr>\n    <tr>\n      <th>557</th>\n      <td>pasei10</td>\n      <td>Respondent's father's socioeconomic index (2010).</td>\n    </tr>\n  </tbody>\n</table>\n</div>"
     },
     "execution_count": 55,
     "metadata": {},
     "output_type": "execute_result"
    }
   ],
   "source": [
    "# Coalesce. Arbitrarily pick the last description\n",
    "dl_rows = [ {'column':k,  'desc':v[-1]} for k, v in d.items() ]\n",
    "variables_updated_df = pd.DataFrame(dl_rows)\n",
    "\n",
    "# Just saving the variables because we can. The data will always be accessed from the metadata\n",
    "variables_updated_df.to_csv('../data/variables.csv')\n",
    "variables_updated_df.sample(10)"
   ],
   "metadata": {
    "collapsed": false
   }
  },
  {
   "cell_type": "code",
   "execution_count": 60,
   "outputs": [
    {
     "data": {
      "text/plain": "'Code type of marriage.'"
     },
     "execution_count": 60,
     "metadata": {},
     "output_type": "execute_result"
    }
   ],
   "source": [
    "descs['martype']"
   ],
   "metadata": {
    "collapsed": false
   }
  },
  {
   "cell_type": "code",
   "execution_count": 65,
   "outputs": [
    {
     "name": "stdout",
     "output_type": "stream",
     "text": [
      "679 changes\n"
     ]
    }
   ],
   "source": [
    "# Update the column descriptions\n",
    "\n",
    "descs = {r.column:r.desc for idx, r in variables_updated_df.iterrows() }\n",
    "changes = 0\n",
    "st = pkg.resource('gss_2021').schema_term\n",
    "\n",
    "for c in st.children:\n",
    "    col_name = c.name\n",
    "\n",
    "    desc_t = c.get_or_new_child('Description')\n",
    "\n",
    "    if desc_t.value != descs.get(col_name):\n",
    "        changes += 1\n",
    "        desc_t.value = descs.get(col_name)\n",
    "\n",
    "\n",
    "print(changes, 'changes')\n",
    "if changes:\n",
    "    pkg.write()"
   ],
   "metadata": {
    "collapsed": false
   }
  },
  {
   "cell_type": "code",
   "execution_count": 67,
   "metadata": {},
   "outputs": [],
   "source": [
    "from pandas.api.types import is_categorical_dtype\n",
    "\n",
    "def cat_map(s):\n",
    "    \"\"\" Produce a dict of categorical mappings. \n",
    "    The faster alternative, dict( enumerate(df[c].cat.categories ) ), misses the codes assocated with NaNs\"\"\"\n",
    "    \n",
    "    return dict( zip( s.cat.codes, s ) )\n",
    "\n",
    "rows = []\n",
    "for c in df.columns:\n",
    "    s = df[c]\n",
    "    \n",
    "    # Convert identifier columns from categories to ints\n",
    "    if is_categorical_dtype(s.dtype):\n",
    "        if float(len(s.cat.categories)) / len(s) > .5:\n",
    "            df[c] = df[c].cat.codes.astype(int)\n",
    "        else:\n",
    "            for k, v in cat_map(df[c]).items():\n",
    "                rows.append({\n",
    "                    'column': c,\n",
    "                    'label': v, \n",
    "                    'code': k\n",
    "                })\n",
    "            \n",
    "labels_df = pd.DataFrame(rows)\n",
    "labels_df.head()\n",
    "\n",
    "labels_df.to_csv('../data/_labels.csv')"
   ]
  },
  {
   "cell_type": "code",
   "execution_count": null,
   "outputs": [],
   "source": [
    "\n"
   ],
   "metadata": {
    "collapsed": false
   }
  },
  {
   "cell_type": "code",
   "execution_count": null,
   "outputs": [],
   "source": [
    "\n"
   ],
   "metadata": {
    "collapsed": false
   }
  },
  {
   "cell_type": "code",
   "execution_count": null,
   "outputs": [],
   "source": [],
   "metadata": {
    "collapsed": false
   }
  }
 ],
 "metadata": {
  "kernelspec": {
   "display_name": "Python 3 (ipykernel)",
   "language": "python",
   "name": "python3"
  },
  "language_info": {
   "codemirror_mode": {
    "name": "ipython",
    "version": 3
   },
   "file_extension": ".py",
   "mimetype": "text/x-python",
   "name": "python",
   "nbconvert_exporter": "python",
   "pygments_lexer": "ipython3",
   "version": "3.10.6"
  }
 },
 "nbformat": 4,
 "nbformat_minor": 4
}
