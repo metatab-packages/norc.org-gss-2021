{
 "cells": [
  {
   "cell_type": "code",
   "execution_count": 1,
   "metadata": {},
   "outputs": [],
   "source": [
    "import seaborn as sns\n",
    "import metapack as mp\n",
    "import pandas as pd\n",
    "import numpy as np\n",
    "import matplotlib.pyplot as plt\n",
    "from IPython.display import display \n",
    "\n",
    "%matplotlib inline\n",
    "sns.set_context('notebook')\n",
    "mp.jupyter.init()\n"
   ]
  },
  {
   "cell_type": "code",
   "execution_count": 2,
   "metadata": {},
   "outputs": [
    {
     "data": {
      "text/plain": "# General Social Survey\n`norc.org-gss-2021-1.2.1` Last Update: 2023-05-01T15:38:39\n\n_General Social Survey collects information and keeps a historical record of the concerns, experiences, attitudes, and practices of residents of the United States._\n\n\n## Caveats\n\nThis package is an extract meant for a specific workflow. For general analysis, you should almost certainly use an extract generated from the [GSS website](https://gss.norc.org/). \n\n## Using the Data Files\n\n\nThe variables in this package are almost entirely categorical, but the data is stored with codes, with the categorical labels stored seperately in the ``_labels`` reference. When opening the file with Metapack, the ``convert_categorical`` argument ( which defaults to ``True`` ) controls converting the codes to labels. \n\n    pkg.resource('gss_2021').dataframe(convert_categorical=True)\n\nBecause the default is ``True`` this should happen automatically when using ``.dataframe``, but it is good to know what is happening behind the scenes.\n## Documentation Links\n\n* [General Social Survey](https://gss.norc.org/) GSS Homepage at NORC\n* [Download page](https://gss.norc.org/get-the-data/stata) \n\n \n\n## Contacts\n\n* **Wrangler** [Eric Busboom](mailto:eric@civicknowledge.com), [Civic Knowledge](http://civicknowledge.com)\n\n## Resources\n\n* **[_labels](data/_labels.csv)**. Variable value labels\n* **[gss_2021](notebooks/extract.ipynb#df)**. General Social Survey 2021\n\n## References\n<ul><li> <strong><a href=\"https://gss.norc.org/Documents/stata/2021_stata.zip#GSS2021.dta\">gss_2021_src</a></strong>. GSS 2021 Source  archive</li><li> <strong><a href=\"https://gss.norc.org/Documents/stata/2021_stata.zip#GSS 2021 Codebook.pdf\">gss_2021_codes</a></strong>. GSS 2021 Codebook</li><li> <strong>_variables</string>, <em>data/variables.csv</em>. Variable names and descriptions</li><ul>\n",
      "text/html": "<h1>General Social Survey</h1>\n<p><code>norc.org-gss-2021-1.2.1</code> Last Update: 2023-05-01T15:38:39</p>\n<p><em>General Social Survey collects information and keeps a historical record of the concerns, experiences, attitudes, and practices of residents of the United States.</em></p>\n<h2>Caveats</h2>\n<p>This package is an extract meant for a specific workflow. For general analysis, you should almost certainly use an extract generated from the <a href=\"https://gss.norc.org/\">GSS website</a>. </p>\n<h2>Using the Data Files</h2>\n<p>The variables in this package are almost entirely categorical, but the data is stored with codes, with the categorical labels stored seperately in the <code>_labels</code> reference. When opening the file with Metapack, the <code>convert_categorical</code> argument ( which defaults to <code>True</code> ) controls converting the codes to labels. </p>\n<pre><code>pkg.resource('gss_2021').dataframe(convert_categorical=True)\n</code></pre>\n<p>Because the default is <code>True</code> this should happen automatically when using <code>.dataframe</code>, but it is good to know what is happening behind the scenes.</p>\n<h2>Documentation Links</h2>\n<ul>\n<li><a href=\"https://gss.norc.org/\">General Social Survey</a> GSS Homepage at NORC</li>\n<li><a href=\"https://gss.norc.org/get-the-data/stata\">Download page</a> </li>\n</ul>\n<h2>Contacts</h2>\n<ul>\n<li><strong>Wrangler</strong> <a href=\"mailto:eric@civicknowledge.com\">Eric Busboom</a>, <a href=\"http://civicknowledge.com\">Civic Knowledge</a></li>\n</ul>\n<h2>Resources</h2>\n<ul>\n<li><strong><a href=\"data/_labels.csv\">_labels</a></strong>. Variable value labels</li>\n<li><strong><a href=\"notebooks/extract.ipynb#df\">gss_2021</a></strong>. General Social Survey 2021</li>\n</ul>\n<h2>References</h2>\n<ul><li> <strong><a href=\"https://gss.norc.org/Documents/stata/2021_stata.zip#GSS2021.dta\">gss_2021_src</a></strong>. GSS 2021 Source  archive</li><li> <strong><a href=\"https://gss.norc.org/Documents/stata/2021_stata.zip#GSS 2021 Codebook.pdf\">gss_2021_codes</a></strong>. GSS 2021 Codebook</li><li> <strong>_variables</string>, <em>data/variables.csv</em>. Variable names and descriptions</li><ul>"
     },
     "execution_count": 2,
     "metadata": {},
     "output_type": "execute_result"
    }
   ],
   "source": [
    "#pkg = mp.jupyter.open_package()\n",
    "pkg = mp.jupyter.open_source_package()\n",
    "\n",
    "pkg.set_sys_path()\n",
    "\n",
    "pkg"
   ]
  },
  {
   "cell_type": "code",
   "execution_count": 16,
   "metadata": {},
   "outputs": [
    {
     "name": "stderr",
     "output_type": "stream",
     "text": [
      "/var/folders/kp/jn04x74j43j9v0t6cl0574h00000gn/T/ipykernel_38357/2445224592.py:4: UnicodeWarning: \n",
      "One or more strings in the dta file could not be decoded using utf-8, and\n",
      "so the fallback encoding of latin-1 is being used.  This can happen when a file\n",
      "has been incorrectly encoded by Stata or some other software. You should verify\n",
      "the string values returned are correct.\n",
      "  df = pd.read_stata(fn)\n"
     ]
    },
    {
     "data": {
      "text/plain": "    column              label  code\n0  wrkstat  working full time     0\n1  wrkstat  working part time     1\n2  wrkstat            retired     4\n3  wrkstat              other     7\n4  wrkstat          in school     5",
      "text/html": "<div>\n<style scoped>\n    .dataframe tbody tr th:only-of-type {\n        vertical-align: middle;\n    }\n\n    .dataframe tbody tr th {\n        vertical-align: top;\n    }\n\n    .dataframe thead th {\n        text-align: right;\n    }\n</style>\n<table border=\"1\" class=\"dataframe\">\n  <thead>\n    <tr style=\"text-align: right;\">\n      <th></th>\n      <th>column</th>\n      <th>label</th>\n      <th>code</th>\n    </tr>\n  </thead>\n  <tbody>\n    <tr>\n      <th>0</th>\n      <td>wrkstat</td>\n      <td>working full time</td>\n      <td>0</td>\n    </tr>\n    <tr>\n      <th>1</th>\n      <td>wrkstat</td>\n      <td>working part time</td>\n      <td>1</td>\n    </tr>\n    <tr>\n      <th>2</th>\n      <td>wrkstat</td>\n      <td>retired</td>\n      <td>4</td>\n    </tr>\n    <tr>\n      <th>3</th>\n      <td>wrkstat</td>\n      <td>other</td>\n      <td>7</td>\n    </tr>\n    <tr>\n      <th>4</th>\n      <td>wrkstat</td>\n      <td>in school</td>\n      <td>5</td>\n    </tr>\n  </tbody>\n</table>\n</div>"
     },
     "execution_count": 16,
     "metadata": {},
     "output_type": "execute_result"
    }
   ],
   "source": [
    "from pandas.api.types import is_categorical_dtype\n",
    "\n",
    "fn = pkg.reference('gss_2021_src').resolved_url.get_resource().get_target().fspath\n",
    "df = pd.read_stata(fn)\n",
    "df['year'] = df['year'].astype(int)\n",
    "\n",
    "def cat_map(s):\n",
    "    \"\"\" Produce a dict of categorical mappings. \n",
    "    The faster alternative, dict( enumerate(df[c].cat.categories ) ), misses the codes assocated with NaNs\"\"\"\n",
    "    \n",
    "    return dict( zip( s.cat.codes, s ) )\n",
    "\n",
    "rows = []\n",
    "for c in df.columns:\n",
    "    s = df[c]\n",
    "    \n",
    "    # Convert identifier columns from categories to ints\n",
    "    if is_categorical_dtype(s.dtype):\n",
    "\n",
    "        # Weights, id, and a few others should not have been categorical.\n",
    "        if c in ('wtssps', 'wtssnrps', 'id','vpsu', 'vstrat', 'sampcode', 'year', 'prestg10'):\n",
    "            df[c] = df[c].astype(float)\n",
    "        else:\n",
    "            for k, v in cat_map(df[c]).items():\n",
    "                rows.append({\n",
    "                    'column': c,\n",
    "                    'label': v, \n",
    "                    'code': k\n",
    "                })\n",
    "            \n",
    "labels_df = pd.DataFrame(rows)\n",
    "labels_df.head()\n"
   ]
  },
  {
   "cell_type": "code",
   "execution_count": 5,
   "metadata": {},
   "outputs": [
    {
     "data": {
      "text/plain": "   year  id  wrkstat  hrs1  hrs2  evwork  wrkslf  wrkgovt  occ10  prestg10  \\\n0  2021   0        0    35    -1      -1       1       -1    265        21   \n1  2021   1        0    44    -1      -1       1       -1      3        40   \n2  2021   2        1    16    -1      -1       1       -1    341        18   \n3  2021   3        1    27    -1      -1       0       -1    223        18   \n4  2021   4        0    41    -1      -1       1       -1    282        21   \n\n   ...  biblenv  postlifenv  kidssolnv  uscitznnv  fucitznnv  fepolnv  \\\n0  ...        1           1          3         -1         -1       -1   \n1  ...       -1          -1         -1         -1         -1       -1   \n2  ...       -1          -1         -1         -1         -1        1   \n3  ...       -1          -1         -1         -1         -1       -1   \n4  ...        1           0         -1          0         -1        1   \n\n   scibnftsv  abanyg  fileversion  vietdraft  \n0          1       1            0         -1  \n1          0      -1            0         -1  \n2         -1       0            0         -1  \n3         -1      -1            0         -1  \n4         -1       0            0         -1  \n\n[5 rows x 707 columns]",
      "text/html": "<div>\n<style scoped>\n    .dataframe tbody tr th:only-of-type {\n        vertical-align: middle;\n    }\n\n    .dataframe tbody tr th {\n        vertical-align: top;\n    }\n\n    .dataframe thead th {\n        text-align: right;\n    }\n</style>\n<table border=\"1\" class=\"dataframe\">\n  <thead>\n    <tr style=\"text-align: right;\">\n      <th></th>\n      <th>year</th>\n      <th>id</th>\n      <th>wrkstat</th>\n      <th>hrs1</th>\n      <th>hrs2</th>\n      <th>evwork</th>\n      <th>wrkslf</th>\n      <th>wrkgovt</th>\n      <th>occ10</th>\n      <th>prestg10</th>\n      <th>...</th>\n      <th>biblenv</th>\n      <th>postlifenv</th>\n      <th>kidssolnv</th>\n      <th>uscitznnv</th>\n      <th>fucitznnv</th>\n      <th>fepolnv</th>\n      <th>scibnftsv</th>\n      <th>abanyg</th>\n      <th>fileversion</th>\n      <th>vietdraft</th>\n    </tr>\n  </thead>\n  <tbody>\n    <tr>\n      <th>0</th>\n      <td>2021</td>\n      <td>0</td>\n      <td>0</td>\n      <td>35</td>\n      <td>-1</td>\n      <td>-1</td>\n      <td>1</td>\n      <td>-1</td>\n      <td>265</td>\n      <td>21</td>\n      <td>...</td>\n      <td>1</td>\n      <td>1</td>\n      <td>3</td>\n      <td>-1</td>\n      <td>-1</td>\n      <td>-1</td>\n      <td>1</td>\n      <td>1</td>\n      <td>0</td>\n      <td>-1</td>\n    </tr>\n    <tr>\n      <th>1</th>\n      <td>2021</td>\n      <td>1</td>\n      <td>0</td>\n      <td>44</td>\n      <td>-1</td>\n      <td>-1</td>\n      <td>1</td>\n      <td>-1</td>\n      <td>3</td>\n      <td>40</td>\n      <td>...</td>\n      <td>-1</td>\n      <td>-1</td>\n      <td>-1</td>\n      <td>-1</td>\n      <td>-1</td>\n      <td>-1</td>\n      <td>0</td>\n      <td>-1</td>\n      <td>0</td>\n      <td>-1</td>\n    </tr>\n    <tr>\n      <th>2</th>\n      <td>2021</td>\n      <td>2</td>\n      <td>1</td>\n      <td>16</td>\n      <td>-1</td>\n      <td>-1</td>\n      <td>1</td>\n      <td>-1</td>\n      <td>341</td>\n      <td>18</td>\n      <td>...</td>\n      <td>-1</td>\n      <td>-1</td>\n      <td>-1</td>\n      <td>-1</td>\n      <td>-1</td>\n      <td>1</td>\n      <td>-1</td>\n      <td>0</td>\n      <td>0</td>\n      <td>-1</td>\n    </tr>\n    <tr>\n      <th>3</th>\n      <td>2021</td>\n      <td>3</td>\n      <td>1</td>\n      <td>27</td>\n      <td>-1</td>\n      <td>-1</td>\n      <td>0</td>\n      <td>-1</td>\n      <td>223</td>\n      <td>18</td>\n      <td>...</td>\n      <td>-1</td>\n      <td>-1</td>\n      <td>-1</td>\n      <td>-1</td>\n      <td>-1</td>\n      <td>-1</td>\n      <td>-1</td>\n      <td>-1</td>\n      <td>0</td>\n      <td>-1</td>\n    </tr>\n    <tr>\n      <th>4</th>\n      <td>2021</td>\n      <td>4</td>\n      <td>0</td>\n      <td>41</td>\n      <td>-1</td>\n      <td>-1</td>\n      <td>1</td>\n      <td>-1</td>\n      <td>282</td>\n      <td>21</td>\n      <td>...</td>\n      <td>1</td>\n      <td>0</td>\n      <td>-1</td>\n      <td>0</td>\n      <td>-1</td>\n      <td>1</td>\n      <td>-1</td>\n      <td>0</td>\n      <td>0</td>\n      <td>-1</td>\n    </tr>\n  </tbody>\n</table>\n<p>5 rows × 707 columns</p>\n</div>"
     },
     "execution_count": 5,
     "metadata": {},
     "output_type": "execute_result"
    }
   ],
   "source": [
    "# Now that we've extracted the labels, convert to integers\n",
    "cat_cols =df.select_dtypes(include='category').columns\n",
    "\n",
    "for c in cat_cols:\n",
    "    df[c] = df[c].cat.codes\n",
    "\n",
    "df.head()"
   ]
  },
  {
   "cell_type": "code",
   "execution_count": 6,
   "metadata": {},
   "outputs": [],
   "source": [
    "labels_df[labels_df.column == 'age']\n",
    "\n",
    "def label_type(labels):\n",
    "    def is_num(c, v):\n",
    "        try:\n",
    "            c(v)\n",
    "            return True\n",
    "        except:\n",
    "            return False\n",
    "            \n",
    "       \n",
    "    if all([is_num(int,e) for e in labels]):\n",
    "        return int\n",
    "    elif all([is_num(float,e) for e in labels]):\n",
    "        return float\n",
    "    else:\n",
    "        return str\n",
    "    \n"
   ]
  },
  {
   "cell_type": "code",
   "execution_count": 7,
   "metadata": {},
   "outputs": [
    {
     "data": {
      "text/plain": "0       no\n1       NA\n2       NA\n3       no\n4       NA\n        ..\n4027    NA\n4028    no\n4029    no\n4030    NA\n4031    no\nName: divorce, Length: 4032, dtype: category\nCategories (3, object): ['NA', 'yes', 'no']"
     },
     "execution_count": 7,
     "metadata": {},
     "output_type": "execute_result"
    }
   ],
   "source": [
    "def isnan(v):\n",
    "    import math\n",
    "    try:\n",
    "        return math.isnan(v)\n",
    "    except TypeError:\n",
    "        return False\n",
    "    \n",
    "def make_label_dict(g):\n",
    "    d = { r.code:r.label if not isnan(r.label) else 'NA' for idx, r in g.iterrows() }\n",
    "    return d\n",
    "\n",
    "age_df = labels_df[labels_df.column == 'divorce']\n",
    "d = make_label_dict(age_df)\n",
    "\n",
    "t = df.copy()\n",
    "\n",
    "t['divorce'].astype('category').cat.rename_categories(d)\n"
   ]
  },
  {
   "cell_type": "code",
   "execution_count": 8,
   "metadata": {},
   "outputs": [
    {
     "data": {
      "text/plain": "      year    id                                            wrkstat  hrs1  \\\n0     2021     0                                  working full time  36.0   \n1     2021     1                                  working full time  45.0   \n2     2021     2                                  working part time  16.0   \n3     2021     3                                  working part time  27.0   \n4     2021     4                                  working full time  42.0   \n...    ...   ...                                                ...   ...   \n4027  2021  4027                                          in school    NA   \n4028  2021  4028  with a job, but not at work because of tempora...    NA   \n4029  2021  4029                                  working full time  45.0   \n4030  2021  4030                                            retired    NA   \n4031  2021  4031                                  working full time  40.0   \n\n      hrs2 evwork         wrkslf wrkgovt  \\\n0       NA     NA   someone else      NA   \n1       NA     NA   someone else      NA   \n2       NA     NA   someone else      NA   \n3       NA     NA  self-employed      NA   \n4       NA     NA   someone else      NA   \n...    ...    ...            ...     ...   \n4027    NA     no             NA      NA   \n4028  50.0     NA   someone else      NA   \n4029    NA     NA   someone else      NA   \n4030    NA    yes   someone else      NA   \n4031    NA     NA   someone else      NA   \n\n                                              occ10 prestg10  ...  \\\n0              receptionists and information clerks     38.0  ...   \n1               advertising and promotions managers     57.0  ...   \n2          miscellaneous assemblers and fabricators     35.0  ...   \n3                                 childcare workers     35.0  ...   \n4     insurance claims and policy processing clerks     38.0  ...   \n...                                             ...      ...  ...   \n4027                                             NA       NA  ...   \n4028               customer service representatives     31.0  ...   \n4029                            managers, all other     39.0  ...   \n4030                      secondary school teachers     64.0  ...   \n4031                  production workers, all other     35.0  ...   \n\n            biblenv postlifenv       kidssolnv       uscitznnv fucitznnv  \\\n0     inspired word         no  somewhat worse              NA        NA   \n1                NA         NA              NA              NA        NA   \n2                NA         NA              NA              NA        NA   \n3                NA         NA              NA              NA        NA   \n4     inspired word        yes              NA  a u.s. citizen        NA   \n...             ...        ...             ...             ...       ...   \n4027   ancient book        yes              NA              NA        NA   \n4028             NA         NA              NA              NA        NA   \n4029             NA         NA              NA              NA        NA   \n4030  inspired word        yes              NA              NA        NA   \n4031             NA         NA              NA              NA        NA   \n\n       fepolnv                                   scibnftsv abanyg fileversion  \\\n0           NA  about equal (phone mode only: volunteered)     no     7221.32   \n1           NA                            benefits greater     NA     7221.32   \n2     disagree                                          NA    yes     7221.32   \n3           NA                                          NA     NA     7221.32   \n4     disagree                                          NA    yes     7221.32   \n...        ...                                         ...    ...         ...   \n4027  disagree                                          NA    yes     7221.32   \n4028        NA                                          NA     NA     7221.32   \n4029        NA                            benefits greater     NA     7221.32   \n4030  disagree                                          NA    yes     7221.32   \n4031        NA                            benefits greater     NA     7221.32   \n\n                                     vietdraft  \n0                                           NA  \n1                                           NA  \n2                                           NA  \n3                                           NA  \n4                                           NA  \n...                                        ...  \n4027                                        NA  \n4028                                        NA  \n4029                                        NA  \n4030  draft lottery number made draft unlikely  \n4031                                        NA  \n\n[4032 rows x 707 columns]",
      "text/html": "<div>\n<style scoped>\n    .dataframe tbody tr th:only-of-type {\n        vertical-align: middle;\n    }\n\n    .dataframe tbody tr th {\n        vertical-align: top;\n    }\n\n    .dataframe thead th {\n        text-align: right;\n    }\n</style>\n<table border=\"1\" class=\"dataframe\">\n  <thead>\n    <tr style=\"text-align: right;\">\n      <th></th>\n      <th>year</th>\n      <th>id</th>\n      <th>wrkstat</th>\n      <th>hrs1</th>\n      <th>hrs2</th>\n      <th>evwork</th>\n      <th>wrkslf</th>\n      <th>wrkgovt</th>\n      <th>occ10</th>\n      <th>prestg10</th>\n      <th>...</th>\n      <th>biblenv</th>\n      <th>postlifenv</th>\n      <th>kidssolnv</th>\n      <th>uscitznnv</th>\n      <th>fucitznnv</th>\n      <th>fepolnv</th>\n      <th>scibnftsv</th>\n      <th>abanyg</th>\n      <th>fileversion</th>\n      <th>vietdraft</th>\n    </tr>\n  </thead>\n  <tbody>\n    <tr>\n      <th>0</th>\n      <td>2021</td>\n      <td>0</td>\n      <td>working full time</td>\n      <td>36.0</td>\n      <td>NA</td>\n      <td>NA</td>\n      <td>someone else</td>\n      <td>NA</td>\n      <td>receptionists and information clerks</td>\n      <td>38.0</td>\n      <td>...</td>\n      <td>inspired word</td>\n      <td>no</td>\n      <td>somewhat worse</td>\n      <td>NA</td>\n      <td>NA</td>\n      <td>NA</td>\n      <td>about equal (phone mode only: volunteered)</td>\n      <td>no</td>\n      <td>7221.32</td>\n      <td>NA</td>\n    </tr>\n    <tr>\n      <th>1</th>\n      <td>2021</td>\n      <td>1</td>\n      <td>working full time</td>\n      <td>45.0</td>\n      <td>NA</td>\n      <td>NA</td>\n      <td>someone else</td>\n      <td>NA</td>\n      <td>advertising and promotions managers</td>\n      <td>57.0</td>\n      <td>...</td>\n      <td>NA</td>\n      <td>NA</td>\n      <td>NA</td>\n      <td>NA</td>\n      <td>NA</td>\n      <td>NA</td>\n      <td>benefits greater</td>\n      <td>NA</td>\n      <td>7221.32</td>\n      <td>NA</td>\n    </tr>\n    <tr>\n      <th>2</th>\n      <td>2021</td>\n      <td>2</td>\n      <td>working part time</td>\n      <td>16.0</td>\n      <td>NA</td>\n      <td>NA</td>\n      <td>someone else</td>\n      <td>NA</td>\n      <td>miscellaneous assemblers and fabricators</td>\n      <td>35.0</td>\n      <td>...</td>\n      <td>NA</td>\n      <td>NA</td>\n      <td>NA</td>\n      <td>NA</td>\n      <td>NA</td>\n      <td>disagree</td>\n      <td>NA</td>\n      <td>yes</td>\n      <td>7221.32</td>\n      <td>NA</td>\n    </tr>\n    <tr>\n      <th>3</th>\n      <td>2021</td>\n      <td>3</td>\n      <td>working part time</td>\n      <td>27.0</td>\n      <td>NA</td>\n      <td>NA</td>\n      <td>self-employed</td>\n      <td>NA</td>\n      <td>childcare workers</td>\n      <td>35.0</td>\n      <td>...</td>\n      <td>NA</td>\n      <td>NA</td>\n      <td>NA</td>\n      <td>NA</td>\n      <td>NA</td>\n      <td>NA</td>\n      <td>NA</td>\n      <td>NA</td>\n      <td>7221.32</td>\n      <td>NA</td>\n    </tr>\n    <tr>\n      <th>4</th>\n      <td>2021</td>\n      <td>4</td>\n      <td>working full time</td>\n      <td>42.0</td>\n      <td>NA</td>\n      <td>NA</td>\n      <td>someone else</td>\n      <td>NA</td>\n      <td>insurance claims and policy processing clerks</td>\n      <td>38.0</td>\n      <td>...</td>\n      <td>inspired word</td>\n      <td>yes</td>\n      <td>NA</td>\n      <td>a u.s. citizen</td>\n      <td>NA</td>\n      <td>disagree</td>\n      <td>NA</td>\n      <td>yes</td>\n      <td>7221.32</td>\n      <td>NA</td>\n    </tr>\n    <tr>\n      <th>...</th>\n      <td>...</td>\n      <td>...</td>\n      <td>...</td>\n      <td>...</td>\n      <td>...</td>\n      <td>...</td>\n      <td>...</td>\n      <td>...</td>\n      <td>...</td>\n      <td>...</td>\n      <td>...</td>\n      <td>...</td>\n      <td>...</td>\n      <td>...</td>\n      <td>...</td>\n      <td>...</td>\n      <td>...</td>\n      <td>...</td>\n      <td>...</td>\n      <td>...</td>\n      <td>...</td>\n    </tr>\n    <tr>\n      <th>4027</th>\n      <td>2021</td>\n      <td>4027</td>\n      <td>in school</td>\n      <td>NA</td>\n      <td>NA</td>\n      <td>no</td>\n      <td>NA</td>\n      <td>NA</td>\n      <td>NA</td>\n      <td>NA</td>\n      <td>...</td>\n      <td>ancient book</td>\n      <td>yes</td>\n      <td>NA</td>\n      <td>NA</td>\n      <td>NA</td>\n      <td>disagree</td>\n      <td>NA</td>\n      <td>yes</td>\n      <td>7221.32</td>\n      <td>NA</td>\n    </tr>\n    <tr>\n      <th>4028</th>\n      <td>2021</td>\n      <td>4028</td>\n      <td>with a job, but not at work because of tempora...</td>\n      <td>NA</td>\n      <td>50.0</td>\n      <td>NA</td>\n      <td>someone else</td>\n      <td>NA</td>\n      <td>customer service representatives</td>\n      <td>31.0</td>\n      <td>...</td>\n      <td>NA</td>\n      <td>NA</td>\n      <td>NA</td>\n      <td>NA</td>\n      <td>NA</td>\n      <td>NA</td>\n      <td>NA</td>\n      <td>NA</td>\n      <td>7221.32</td>\n      <td>NA</td>\n    </tr>\n    <tr>\n      <th>4029</th>\n      <td>2021</td>\n      <td>4029</td>\n      <td>working full time</td>\n      <td>45.0</td>\n      <td>NA</td>\n      <td>NA</td>\n      <td>someone else</td>\n      <td>NA</td>\n      <td>managers, all other</td>\n      <td>39.0</td>\n      <td>...</td>\n      <td>NA</td>\n      <td>NA</td>\n      <td>NA</td>\n      <td>NA</td>\n      <td>NA</td>\n      <td>NA</td>\n      <td>benefits greater</td>\n      <td>NA</td>\n      <td>7221.32</td>\n      <td>NA</td>\n    </tr>\n    <tr>\n      <th>4030</th>\n      <td>2021</td>\n      <td>4030</td>\n      <td>retired</td>\n      <td>NA</td>\n      <td>NA</td>\n      <td>yes</td>\n      <td>someone else</td>\n      <td>NA</td>\n      <td>secondary school teachers</td>\n      <td>64.0</td>\n      <td>...</td>\n      <td>inspired word</td>\n      <td>yes</td>\n      <td>NA</td>\n      <td>NA</td>\n      <td>NA</td>\n      <td>disagree</td>\n      <td>NA</td>\n      <td>yes</td>\n      <td>7221.32</td>\n      <td>draft lottery number made draft unlikely</td>\n    </tr>\n    <tr>\n      <th>4031</th>\n      <td>2021</td>\n      <td>4031</td>\n      <td>working full time</td>\n      <td>40.0</td>\n      <td>NA</td>\n      <td>NA</td>\n      <td>someone else</td>\n      <td>NA</td>\n      <td>production workers, all other</td>\n      <td>35.0</td>\n      <td>...</td>\n      <td>NA</td>\n      <td>NA</td>\n      <td>NA</td>\n      <td>NA</td>\n      <td>NA</td>\n      <td>NA</td>\n      <td>benefits greater</td>\n      <td>NA</td>\n      <td>7221.32</td>\n      <td>NA</td>\n    </tr>\n  </tbody>\n</table>\n<p>4032 rows × 707 columns</p>\n</div>"
     },
     "execution_count": 8,
     "metadata": {},
     "output_type": "execute_result"
    }
   ],
   "source": [
    "def convert_to_categorical(df, labels_df):\n",
    "    import math\n",
    "\n",
    "    t = df.copy()\n",
    "    \n",
    "    for col_name, g in labels_df.groupby('column'):\n",
    "        d = make_label_dict(g)\n",
    "        try:\n",
    "            t[col_name] = t[col_name].astype('category').cat.rename_categories(d)\n",
    "        except Exception as e:\n",
    "            print(col_name, d, e)\n",
    "        \n",
    "    return t\n",
    "\n",
    "convert_to_categorical(df, labels_df)"
   ]
  },
  {
   "cell_type": "code",
   "execution_count": null,
   "metadata": {},
   "outputs": [],
   "source": []
  }
 ],
 "metadata": {
  "kernelspec": {
   "display_name": "Python 3 (ipykernel)",
   "language": "python",
   "name": "python3"
  },
  "language_info": {
   "codemirror_mode": {
    "name": "ipython",
    "version": 3
   },
   "file_extension": ".py",
   "mimetype": "text/x-python",
   "name": "python",
   "nbconvert_exporter": "python",
   "pygments_lexer": "ipython3",
   "version": "3.10.6"
  }
 },
 "nbformat": 4,
 "nbformat_minor": 4
}
