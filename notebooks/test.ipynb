{
 "cells": [
  {
   "cell_type": "code",
   "execution_count": 1,
   "metadata": {},
   "outputs": [],
   "source": [
    "%load_ext autoreload\n",
    "%autoreload 2\n",
    "\n",
    "import seaborn as sns\n",
    "import metapack as mp\n",
    "import pandas as pd\n",
    "import numpy as np\n",
    "import matplotlib.pyplot as plt\n",
    "from IPython.display import display \n",
    "\n",
    "%matplotlib inline\n",
    "sns.set_context('notebook')\n",
    "mp.jupyter.init()\n"
   ]
  },
  {
   "cell_type": "code",
   "execution_count": 3,
   "metadata": {},
   "outputs": [
    {
     "data": {
      "text/html": [
       "<h1>General Social Survey</h1>\n",
       "<p><code>norc.org-gss-2021-1.1.2</code> Last Update: 2023-03-06T16:40:56</p>\n",
       "<p><em>General Social Survey collects information and keeps a historical record of the concerns, experiences, attitudes, and practices of residents of the United States.</em></p>\n",
       "<h2>Caveats</h2>\n",
       "<p>This package is an extract meant for a specific workflow. For general analysis, you should almost certainly use an extract generated from the <a href=\"https://gss.norc.org/\">GSS website</a>. </p>\n",
       "<h2>Using the Data Files</h2>\n",
       "<p>The variables in this package are almost entirely categorical, but the data is stored with codes, with the categorical labels stored seperately in the <code>_labels</code> reference. When opening the file with Metapack, the <code>convert_categorical</code> argument ( which defaults to <code>True</code> ) controls converting the codes to labels. </p>\n",
       "<pre><code>pkg.resource('gss_2021').dataframe(convert_categorical=True)\n",
       "</code></pre>\n",
       "<p>Because the default is <code>True</code> this should happen automatically when using <code>.dataframe</code>, but it is good to know what is happening behind the scenes.</p>\n",
       "<h2>Documentation Links</h2>\n",
       "<ul>\n",
       "<li><a href=\"https://gss.norc.org/\">General Social Survey</a> GSS Homepage at NORC</li>\n",
       "<li><a href=\"https://gss.norc.org/get-the-data/stata\">Download page</a> </li>\n",
       "</ul>\n",
       "<h2>Contacts</h2>\n",
       "<ul>\n",
       "<li><strong>Wrangler</strong> <a href=\"mailto:eric@civicknowledge.com\">Eric Busboom</a>, <a href=\"http://civicknowledge.com\">Civic Knowledge</a></li>\n",
       "</ul>\n",
       "<h2>Resources</h2>\n",
       "<ul>\n",
       "<li><strong><a href=\"data/labels.csv\">_labels</a></strong>. Variable value labels</li>\n",
       "<li><strong><a href=\"notebooks/extract.ipynb#df\">gss_2021</a></strong>. General Social Survey 2021</li>\n",
       "</ul>\n",
       "<h2>References</h2>\n",
       "<ul><li> <strong><a href=\"https://gss.norc.org/Documents/stata/2021_stata.zip#GSS2021.dta\">gss_2021_src</a></strong>. GSS 2021 Source  archive</li><li> <strong><a href=\"https://gss.norc.org/Documents/stata/2021_stata.zip#GSS 2021 Codebook.pdf\">gss_2021_codes</a></strong>. GSS 2021 Codebook</li><li> <strong>_variables</string>, <em>data/variables.csv</em>. Variable names and descriptions</li><ul>"
      ],
      "text/plain": [
       "# General Social Survey\n",
       "`norc.org-gss-2021-1.1.2` Last Update: 2023-03-06T16:40:56\n",
       "\n",
       "_General Social Survey collects information and keeps a historical record of the concerns, experiences, attitudes, and practices of residents of the United States._\n",
       "\n",
       "\n",
       "## Caveats\n",
       "\n",
       "This package is an extract meant for a specific workflow. For general analysis, you should almost certainly use an extract generated from the [GSS website](https://gss.norc.org/). \n",
       "\n",
       "## Using the Data Files\n",
       "\n",
       "\n",
       "The variables in this package are almost entirely categorical, but the data is stored with codes, with the categorical labels stored seperately in the ``_labels`` reference. When opening the file with Metapack, the ``convert_categorical`` argument ( which defaults to ``True`` ) controls converting the codes to labels. \n",
       "\n",
       "    pkg.resource('gss_2021').dataframe(convert_categorical=True)\n",
       "\n",
       "Because the default is ``True`` this should happen automatically when using ``.dataframe``, but it is good to know what is happening behind the scenes.\n",
       "## Documentation Links\n",
       "\n",
       "* [General Social Survey](https://gss.norc.org/) GSS Homepage at NORC\n",
       "* [Download page](https://gss.norc.org/get-the-data/stata) \n",
       "\n",
       " \n",
       "\n",
       "## Contacts\n",
       "\n",
       "* **Wrangler** [Eric Busboom](mailto:eric@civicknowledge.com), [Civic Knowledge](http://civicknowledge.com)\n",
       "\n",
       "## Resources\n",
       "\n",
       "* **[_labels](data/labels.csv)**. Variable value labels\n",
       "* **[gss_2021](notebooks/extract.ipynb#df)**. General Social Survey 2021\n",
       "\n",
       "## References\n",
       "<ul><li> <strong><a href=\"https://gss.norc.org/Documents/stata/2021_stata.zip#GSS2021.dta\">gss_2021_src</a></strong>. GSS 2021 Source  archive</li><li> <strong><a href=\"https://gss.norc.org/Documents/stata/2021_stata.zip#GSS 2021 Codebook.pdf\">gss_2021_codes</a></strong>. GSS 2021 Codebook</li><li> <strong>_variables</string>, <em>data/variables.csv</em>. Variable names and descriptions</li><ul>\n"
      ]
     },
     "execution_count": 3,
     "metadata": {},
     "output_type": "execute_result"
    }
   ],
   "source": [
    "#pkg = mp.jupyter.open_package()\n",
    "pkg = mp.jupyter.open_source_package()\n",
    "pkg"
   ]
  },
  {
   "cell_type": "code",
   "execution_count": null,
   "metadata": {},
   "outputs": [],
   "source": []
  }
 ],
 "metadata": {
  "kernelspec": {
   "display_name": "Python 3 (ipykernel)",
   "language": "python",
   "name": "python3"
  },
  "language_info": {
   "codemirror_mode": {
    "name": "ipython",
    "version": 3
   },
   "file_extension": ".py",
   "mimetype": "text/x-python",
   "name": "python",
   "nbconvert_exporter": "python",
   "pygments_lexer": "ipython3",
   "version": "3.10.6"
  }
 },
 "nbformat": 4,
 "nbformat_minor": 4
}
